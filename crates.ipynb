{
 "cells": [
  {
   "cell_type": "code",
   "execution_count": 22,
   "source": [
    "import random\n",
    "import pandas as pd\n",
    "import numpy as np"
   ],
   "outputs": [],
   "metadata": {}
  },
  {
   "cell_type": "code",
   "execution_count": 23,
   "source": [
    "PRICE = 10\n",
    "SUBSCRIBERS = 100\n",
    "ARTISTS = 50\n",
    "\n",
    "\n",
    "streams_avg = 50\n",
    "\n",
    "income = PRICE * SUBSCRIBERS\n"
   ],
   "outputs": [
    {
     "output_type": "error",
     "ename": "SyntaxError",
     "evalue": "invalid syntax (490524766.py, line 10)",
     "traceback": [
      "\u001b[0;36m  Cell \u001b[0;32mIn [23], line 10\u001b[0;36m\u001b[0m\n\u001b[0;31m    price_per_stream = SUBSCRIBERS *\u001b[0m\n\u001b[0m                                     ^\u001b[0m\n\u001b[0;31mSyntaxError\u001b[0m\u001b[0;31m:\u001b[0m invalid syntax\n"
     ]
    }
   ],
   "metadata": {}
  },
  {
   "cell_type": "code",
   "execution_count": 27,
   "source": [
    "rng = np.random.default_rng()\n",
    "#counts = rng.normal(SUBSCRIBERS/2, 20, size= ARTISTS).astype(int)\n",
    "#counts = rng.normal(SUBSCRIBERS/2, 20, size= ARTISTS).astype(int)\n",
    "streams = np.random.normal(streams_avg, 15, SUBSCRIBERS).astype(int)\n",
    "\n",
    "pps = income / np.sum(streams) \n",
    "\n",
    "\n",
    "streams"
   ],
   "outputs": [
    {
     "output_type": "execute_result",
     "data": {
      "text/plain": [
       "array([28, 12, 64, 39, 46, 33, 67, 28, 40, 33, 58, 51, 47, 34, 28, 76, 50,\n",
       "       44, 63, 43, 53, 77, 32, 52, 68, 85, 44, 48, 85, 33, 62, 71, 47, 52,\n",
       "       71, 64, 50, 28, 29, 39, 53, 51, 49, 35, 54, 39, 94, 36, 54, 61, 32,\n",
       "       44, 44, 60, 54, 38, 65, 55, 56, 64, 42, 42, 72, 23, 42, 19, 40, 49,\n",
       "       63, 54, 79, 60, 42, 22, 31, 52, 42, 41, 63, 43, 72, 40, 28, 72, 30,\n",
       "       54, 14, 68, 57, 36, 56, 43, 46, 20, 71, 52, 38, 62, 68, 39])"
      ]
     },
     "metadata": {},
     "execution_count": 27
    }
   ],
   "metadata": {}
  },
  {
   "cell_type": "code",
   "execution_count": null,
   "source": [
    "income = PRICE * SUBSCRIBERS\n",
    "income"
   ],
   "outputs": [
    {
     "output_type": "execute_result",
     "data": {
      "text/plain": [
       "1000"
      ]
     },
     "metadata": {},
     "execution_count": 13
    }
   ],
   "metadata": {}
  },
  {
   "cell_type": "code",
   "execution_count": null,
   "source": [
    "income / ARTISTS"
   ],
   "outputs": [
    {
     "output_type": "execute_result",
     "data": {
      "text/plain": [
       "20.0"
      ]
     },
     "metadata": {},
     "execution_count": 14
    }
   ],
   "metadata": {}
  }
 ],
 "metadata": {
  "orig_nbformat": 4,
  "language_info": {
   "name": "python",
   "version": "3.9.1",
   "mimetype": "text/x-python",
   "codemirror_mode": {
    "name": "ipython",
    "version": 3
   },
   "pygments_lexer": "ipython3",
   "nbconvert_exporter": "python",
   "file_extension": ".py"
  },
  "kernelspec": {
   "name": "python3",
   "display_name": "Python 3.9.1 64-bit"
  },
  "interpreter": {
   "hash": "aee8b7b246df8f9039afb4144a1f6fd8d2ca17a180786b69acc140d282b71a49"
  }
 },
 "nbformat": 4,
 "nbformat_minor": 2
}